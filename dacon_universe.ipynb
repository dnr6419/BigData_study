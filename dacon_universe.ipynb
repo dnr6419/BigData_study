{
  "nbformat": 4,
  "nbformat_minor": 0,
  "metadata": {
    "colab": {
      "name": "dacon_universe.ipynb",
      "provenance": [],
      "collapsed_sections": [],
      "toc_visible": true,
      "authorship_tag": "ABX9TyOBY3NPB1LtRgbwjzE++oRz",
      "include_colab_link": true
    },
    "kernelspec": {
      "name": "python3",
      "display_name": "Python 3"
    }
  },
  "cells": [
    {
      "cell_type": "markdown",
      "metadata": {
        "id": "view-in-github",
        "colab_type": "text"
      },
      "source": [
        "<a href=\"https://colab.research.google.com/github/dnr6419/BigData_study/blob/master/dacon_universe.ipynb\" target=\"_parent\"><img src=\"https://colab.research.google.com/assets/colab-badge.svg\" alt=\"Open In Colab\"/></a>"
      ]
    },
    {
      "cell_type": "code",
      "metadata": {
        "id": "gLvUYeF9jqtJ",
        "colab_type": "code",
        "colab": {}
      },
      "source": [
        "import os\n",
        "import pandas as pd\n",
        "import numpy as np\n",
        "from sklearn.model_selection import train_test_split"
      ],
      "execution_count": 0,
      "outputs": []
    },
    {
      "cell_type": "code",
      "metadata": {
        "id": "VTqP78DckvnO",
        "colab_type": "code",
        "outputId": "26df41b6-c0f8-413f-cf32-bb3f8f731fa5",
        "colab": {
          "base_uri": "https://localhost:8080/",
          "height": 34
        }
      },
      "source": [
        "os.getcwd()\n",
        "data = pd.read_csv(\"./train.csv\")\n",
        "data.head()\n",
        "column_number = {}\n",
        "cnt = 0\n",
        "# 결측치 확인\n",
        "data = data.dropna()\n",
        "\n",
        "# type을 가변수 형태로 변환.\n",
        "column_name = set(data['type'].values)\n",
        "for i in column_name:\n",
        "  column_number[i] = cnt\n",
        "  cnt += 1\n",
        "def to_number(x, dic):\n",
        "    return dic[x]\n",
        "data['type_num'] = data['type'].apply(lambda x: to_number(x, column_number)) \n",
        "print(len(set(data['type'].values)))"
      ],
      "execution_count": 2,
      "outputs": [
        {
          "output_type": "stream",
          "text": [
            "19\n"
          ],
          "name": "stdout"
        }
      ]
    },
    {
      "cell_type": "code",
      "metadata": {
        "id": "znSxq9pamiyE",
        "colab_type": "code",
        "outputId": "5cec8911-924b-4002-932a-2a18a7f717c3",
        "colab": {
          "base_uri": "https://localhost:8080/",
          "height": 34
        }
      },
      "source": [
        "modified_data = data.drop(['id'],axis=1)\n",
        "feature_columns = list(data.columns.difference(['type','type_num'])) # target을 제외한 모든 행\n",
        "X = data[feature_columns] # 설명변수\n",
        "y = data['type_num'] # 타겟변수\n",
        "train_x, test_x, train_y, test_y = train_test_split(X, y, test_size = 0.2) # 학습데이터와 평가데이터의 비율을 8:2 로 분할| \n",
        "print(train_x.shape, test_x.shape, train_y.shape, test_y.shape) # 데이터 개수 확인\n"
      ],
      "execution_count": 3,
      "outputs": [
        {
          "output_type": "stream",
          "text": [
            "(159992, 22) (39999, 22) (159992,) (39999,)\n"
          ],
          "name": "stdout"
        }
      ]
    },
    {
      "cell_type": "code",
      "metadata": {
        "id": "2xk-uFy-mrQ-",
        "colab_type": "code",
        "outputId": "c8af5804-9fbe-486d-dbf0-95ae3a653b1e",
        "colab": {
          "base_uri": "https://localhost:8080/",
          "height": 125
        }
      },
      "source": [
        "# lightgbm으로 했을 때의 결과\n",
        "import lightgbm as lgb\n",
        "from sklearn.metrics import accuracy_score\n",
        "import time\n",
        "start = time.time() # 시작 시간 지정\n",
        "lgb_dtrain = lgb.Dataset(data = train_x, label = train_y) # 학습 데이터를 LightGBM 모델에 맞게 변환\n",
        "lgb_param = {'max_depth': 20, # 트리 깊이\n",
        "            'learning_rate': 0.01, # Step Size\n",
        "            'n_estimators': 100, # Number of trees, 트리 생성 개수 400\n",
        "            'num_iterations' : 1000, # 반복횟수 3000\n",
        "            'feature_fraction' : 0.8,\n",
        "            'objective': 'multiclassova', # 목적 함수\n",
        "            'num_class': len(set(train_y)) + 1} # 파라미터 추가\n",
        "lgb_model = lgb.train(params = lgb_param, train_set = lgb_dtrain) # 학습 진행\n",
        "lgb_model_predict = np.argmax(lgb_model.predict(test_x), axis = 1) # 평가 데이터 예측, Softmax의 결과값 중 가장 큰 값의 Label로 예측\n",
        "print(\"lightgbm\")\n",
        "print(\"Accuracy: %.2f\" % (accuracy_score(test_y, lgb_model_predict) * 100), \"%\") # 정확도 % 계산\n",
        "print(\"Time: %.2f\" % (time.time() - start), \"seconds\") # 코드 실행 시간 계산"
      ],
      "execution_count": 4,
      "outputs": [
        {
          "output_type": "stream",
          "text": [
            "/usr/local/lib/python3.6/dist-packages/lightgbm/engine.py:118: UserWarning: Found `num_iterations` in params. Will use it instead of argument\n",
            "  warnings.warn(\"Found `{}` in params. Will use it instead of argument\".format(alias))\n"
          ],
          "name": "stderr"
        },
        {
          "output_type": "stream",
          "text": [
            "lightgbm\n",
            "Accuracy: 87.37 %\n",
            "Time: 438.68 seconds\n"
          ],
          "name": "stdout"
        }
      ]
    },
    {
      "cell_type": "markdown",
      "metadata": {
        "id": "F0BdGv9H6ReS",
        "colab_type": "text"
      },
      "source": [
        ""
      ]
    },
    {
      "cell_type": "code",
      "metadata": {
        "id": "gVBFJyl7nNUH",
        "colab_type": "code",
        "outputId": "9aab7e87-c2d7-430d-c1cf-e40118305fa2",
        "colab": {
          "base_uri": "https://localhost:8080/",
          "height": 213
        }
      },
      "source": [
        "# 다중 선형 회귀분석\n",
        "import statsmodels.api as sm\n",
        "# train_x, test_x, train_y, test_y\n",
        "# 설명 변수 : train_x\n",
        "# 종속 변수 : train_y\n",
        "\n",
        "train_x_add = sm.add_constant(train_x,has_constant='add') # 상수항 추가\n",
        "multi_model = sm.OLS(train_y,train_x_add)\n",
        "#fitted_model = multi_model.fit()\n",
        "#print(test_x.head())\n",
        "# y_test_pred=fitted_model.predict(test_x)\n",
        "# print(\"다중 선형 회귀분석\")\n",
        "# print(\"Accuracy: %.2f\" % (accuracy_score(test_y, y_test_pred) * 100), \"%\") # 정확도 % 계산\n"
      ],
      "execution_count": 5,
      "outputs": [
        {
          "output_type": "stream",
          "text": [
            "/usr/local/lib/python3.6/dist-packages/numpy/core/fromnumeric.py:2495: FutureWarning: Method .ptp is deprecated and will be removed in a future version. Use numpy.ptp instead.\n",
            "  return ptp(axis=axis, out=out, **kwargs)\n"
          ],
          "name": "stderr"
        },
        {
          "output_type": "stream",
          "text": [
            "        fiberID  fiberMag_g  fiberMag_i  ...   psfMag_r   psfMag_u   psfMag_z\n",
            "166714      316   17.789047   17.472949  ...  17.216045  18.373946  17.050261\n",
            "136824      270   17.513766   16.991773  ...  16.787686  18.083842  16.629452\n",
            "76161       394   17.029283   17.221333  ...  16.763304  17.807731  16.931291\n",
            "194333      566   17.130789   16.793492  ...  16.541837  17.625714  16.445633\n",
            "100794      308   20.435935   20.517781  ...  20.092792  21.030438  19.447472\n",
            "\n",
            "[5 rows x 22 columns]\n"
          ],
          "name": "stdout"
        }
      ]
    },
    {
      "cell_type": "code",
      "metadata": {
        "id": "kY9HKp794WL_",
        "colab_type": "code",
        "outputId": "87b65b8e-995f-48c1-b6ad-72d9e63e4916",
        "colab": {
          "base_uri": "https://localhost:8080/",
          "height": 52
        }
      },
      "source": [
        "# randomforest\n",
        "from sklearn.ensemble import RandomForestClassifier\n",
        "random_forest_model = RandomForestClassifier(n_estimators = 100, # 100번 추정\n",
        "                                             max_depth = 20) # 트리 깊이\n",
        "rf_model = random_forest_model.fit(train_x, train_y) # 학습 진행\n",
        "rf_predict = rf_model.predict(test_x) # 평가 데이터 예측\n",
        "print(\"랜덤 포레스트\")\n",
        "print(\"Accuracy: %.2f\" % (accuracy_score(test_y, rf_predict) * 100), \"%\") # 정확도 % 계산\n"
      ],
      "execution_count": 6,
      "outputs": [
        {
          "output_type": "stream",
          "text": [
            "랜덤 포레스트\n",
            "Accuracy: 87.68 %\n"
          ],
          "name": "stdout"
        }
      ]
    },
    {
      "cell_type": "code",
      "metadata": {
        "colab_type": "code",
        "id": "5s3VxuPB8SMu",
        "outputId": "e6360dd8-4063-4cca-ff4c-5e06354a4d0f",
        "colab": {
          "base_uri": "https://localhost:8080/",
          "height": 422
        }
      },
      "source": [
        "# bagging_의사결정나무\n",
        "from sklearn.ensemble import BaggingRegressor\n",
        "bagging_decision_tree_model = BaggingRegressor(\n",
        "                                                n_estimators = 100, # 100번 샘플링\n",
        "                                                verbose = 1) # 학습 과정 표시\n",
        "bagging_model = bagging_decision_tree_model.fit(train_x, train_y) # 학습 진행\n",
        "predict3 = bagging_model.predict(test_x) # 학습된 Bagging 의사결정나무 모형으로 평가 데이터 예측\n",
        "print(\"Accuracy: %.2f\" % (accuracy_score(test_y, predict3) * 100), \"%\") # 정확도 % 계산"
      ],
      "execution_count": 10,
      "outputs": [
        {
          "output_type": "stream",
          "text": [
            "[Parallel(n_jobs=1)]: Using backend SequentialBackend with 1 concurrent workers.\n",
            "[Parallel(n_jobs=1)]: Done   1 out of   1 | elapsed: 15.0min finished\n",
            "[Parallel(n_jobs=1)]: Using backend SequentialBackend with 1 concurrent workers.\n",
            "[Parallel(n_jobs=1)]: Done   1 out of   1 | elapsed:    2.0s finished\n"
          ],
          "name": "stderr"
        },
        {
          "output_type": "error",
          "ename": "ValueError",
          "evalue": "ignored",
          "traceback": [
            "\u001b[0;31m---------------------------------------------------------------------------\u001b[0m",
            "\u001b[0;31mValueError\u001b[0m                                Traceback (most recent call last)",
            "\u001b[0;32m<ipython-input-10-835534c93d7e>\u001b[0m in \u001b[0;36m<module>\u001b[0;34m()\u001b[0m\n\u001b[1;32m      5\u001b[0m \u001b[0mbagging_model\u001b[0m \u001b[0;34m=\u001b[0m \u001b[0mbagging_decision_tree_model\u001b[0m\u001b[0;34m.\u001b[0m\u001b[0mfit\u001b[0m\u001b[0;34m(\u001b[0m\u001b[0mtrain_x\u001b[0m\u001b[0;34m,\u001b[0m \u001b[0mtrain_y\u001b[0m\u001b[0;34m)\u001b[0m \u001b[0;31m# 학습 진행\u001b[0m\u001b[0;34m\u001b[0m\u001b[0;34m\u001b[0m\u001b[0m\n\u001b[1;32m      6\u001b[0m \u001b[0mpredict3\u001b[0m \u001b[0;34m=\u001b[0m \u001b[0mbagging_model\u001b[0m\u001b[0;34m.\u001b[0m\u001b[0mpredict\u001b[0m\u001b[0;34m(\u001b[0m\u001b[0mtest_x\u001b[0m\u001b[0;34m)\u001b[0m \u001b[0;31m# 학습된 Bagging 의사결정나무 모형으로 평가 데이터 예측\u001b[0m\u001b[0;34m\u001b[0m\u001b[0;34m\u001b[0m\u001b[0m\n\u001b[0;32m----> 7\u001b[0;31m \u001b[0mprint\u001b[0m\u001b[0;34m(\u001b[0m\u001b[0;34m\"Accuracy: %.2f\"\u001b[0m \u001b[0;34m%\u001b[0m \u001b[0;34m(\u001b[0m\u001b[0maccuracy_score\u001b[0m\u001b[0;34m(\u001b[0m\u001b[0mtest_y\u001b[0m\u001b[0;34m,\u001b[0m \u001b[0mpredict3\u001b[0m\u001b[0;34m)\u001b[0m \u001b[0;34m*\u001b[0m \u001b[0;36m100\u001b[0m\u001b[0;34m)\u001b[0m\u001b[0;34m,\u001b[0m \u001b[0;34m\"%\"\u001b[0m\u001b[0;34m)\u001b[0m \u001b[0;31m# 정확도 % 계산\u001b[0m\u001b[0;34m\u001b[0m\u001b[0;34m\u001b[0m\u001b[0m\n\u001b[0m",
            "\u001b[0;32m/usr/local/lib/python3.6/dist-packages/sklearn/metrics/_classification.py\u001b[0m in \u001b[0;36maccuracy_score\u001b[0;34m(y_true, y_pred, normalize, sample_weight)\u001b[0m\n\u001b[1;32m    183\u001b[0m \u001b[0;34m\u001b[0m\u001b[0m\n\u001b[1;32m    184\u001b[0m     \u001b[0;31m# Compute accuracy for each possible representation\u001b[0m\u001b[0;34m\u001b[0m\u001b[0;34m\u001b[0m\u001b[0;34m\u001b[0m\u001b[0m\n\u001b[0;32m--> 185\u001b[0;31m     \u001b[0my_type\u001b[0m\u001b[0;34m,\u001b[0m \u001b[0my_true\u001b[0m\u001b[0;34m,\u001b[0m \u001b[0my_pred\u001b[0m \u001b[0;34m=\u001b[0m \u001b[0m_check_targets\u001b[0m\u001b[0;34m(\u001b[0m\u001b[0my_true\u001b[0m\u001b[0;34m,\u001b[0m \u001b[0my_pred\u001b[0m\u001b[0;34m)\u001b[0m\u001b[0;34m\u001b[0m\u001b[0;34m\u001b[0m\u001b[0m\n\u001b[0m\u001b[1;32m    186\u001b[0m     \u001b[0mcheck_consistent_length\u001b[0m\u001b[0;34m(\u001b[0m\u001b[0my_true\u001b[0m\u001b[0;34m,\u001b[0m \u001b[0my_pred\u001b[0m\u001b[0;34m,\u001b[0m \u001b[0msample_weight\u001b[0m\u001b[0;34m)\u001b[0m\u001b[0;34m\u001b[0m\u001b[0;34m\u001b[0m\u001b[0m\n\u001b[1;32m    187\u001b[0m     \u001b[0;32mif\u001b[0m \u001b[0my_type\u001b[0m\u001b[0;34m.\u001b[0m\u001b[0mstartswith\u001b[0m\u001b[0;34m(\u001b[0m\u001b[0;34m'multilabel'\u001b[0m\u001b[0;34m)\u001b[0m\u001b[0;34m:\u001b[0m\u001b[0;34m\u001b[0m\u001b[0;34m\u001b[0m\u001b[0m\n",
            "\u001b[0;32m/usr/local/lib/python3.6/dist-packages/sklearn/metrics/_classification.py\u001b[0m in \u001b[0;36m_check_targets\u001b[0;34m(y_true, y_pred)\u001b[0m\n\u001b[1;32m     88\u001b[0m     \u001b[0;32mif\u001b[0m \u001b[0mlen\u001b[0m\u001b[0;34m(\u001b[0m\u001b[0my_type\u001b[0m\u001b[0;34m)\u001b[0m \u001b[0;34m>\u001b[0m \u001b[0;36m1\u001b[0m\u001b[0;34m:\u001b[0m\u001b[0;34m\u001b[0m\u001b[0;34m\u001b[0m\u001b[0m\n\u001b[1;32m     89\u001b[0m         raise ValueError(\"Classification metrics can't handle a mix of {0} \"\n\u001b[0;32m---> 90\u001b[0;31m                          \"and {1} targets\".format(type_true, type_pred))\n\u001b[0m\u001b[1;32m     91\u001b[0m \u001b[0;34m\u001b[0m\u001b[0m\n\u001b[1;32m     92\u001b[0m     \u001b[0;31m# We can't have more than one value on y_type => The set is no more needed\u001b[0m\u001b[0;34m\u001b[0m\u001b[0;34m\u001b[0m\u001b[0;34m\u001b[0m\u001b[0m\n",
            "\u001b[0;31mValueError\u001b[0m: Classification metrics can't handle a mix of multiclass and continuous targets"
          ]
        }
      ]
    },
    {
      "cell_type": "code",
      "metadata": {
        "id": "Eimg_Mvp9CUG",
        "colab_type": "code",
        "colab": {}
      },
      "source": [
        ""
      ],
      "execution_count": 0,
      "outputs": []
    }
  ]
}