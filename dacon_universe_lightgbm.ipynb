{
  "nbformat": 4,
  "nbformat_minor": 0,
  "metadata": {
    "colab": {
      "name": "dacon_universe.ipynb",
      "provenance": [],
      "collapsed_sections": [],
      "toc_visible": true,
      "authorship_tag": "ABX9TyMcsoGBDYSHebaZFTtsDreO",
      "include_colab_link": true
    },
    "kernelspec": {
      "name": "python3",
      "display_name": "Python 3"
    }
  },
  "cells": [
    {
      "cell_type": "markdown",
      "metadata": {
        "id": "view-in-github",
        "colab_type": "text"
      },
      "source": [
        "<a href=\"https://colab.research.google.com/github/dnr6419/BigData_study/blob/master/dacon_universe_lightgbm.ipynb\" target=\"_parent\"><img src=\"https://colab.research.google.com/assets/colab-badge.svg\" alt=\"Open In Colab\"/></a>"
      ]
    },
    {
      "cell_type": "code",
      "metadata": {
        "id": "gLvUYeF9jqtJ",
        "colab_type": "code",
        "colab": {}
      },
      "source": [
        "import os\n",
        "import pandas as pd\n",
        "import numpy as np\n",
        "from sklearn.model_selection import train_test_split"
      ],
      "execution_count": 0,
      "outputs": []
    },
    {
      "cell_type": "code",
      "metadata": {
        "id": "VTqP78DckvnO",
        "colab_type": "code",
        "colab": {
          "base_uri": "https://localhost:8080/",
          "height": 54
        },
        "outputId": "b0907598-18db-4693-eded-a52091949a71"
      },
      "source": [
        "os.getcwd()\n",
        "data = pd.read_csv(\"./universe/train.csv\")\n",
        "data.head()\n",
        "column_number = {}\n",
        "cnt = 0\n",
        "# 결측치 확인\n",
        "data = data.dropna()\n",
        "\n",
        "# type을 가변수 형태로 변환.\n",
        "column_name = set(data['type'].values)\n",
        "for i in column_name:\n",
        "  column_number[i] = cnt\n",
        "  cnt += 1\n",
        "def to_number(x, dic):\n",
        "    return dic[x]\n",
        "data['type_num'] = data['type'].apply(lambda x: to_number(x, column_number)) "
      ],
      "execution_count": 47,
      "outputs": [
        {
          "output_type": "stream",
          "text": [
            "{'SERENDIPITY_DISTANT': 0, 'REDDEN_STD': 1, 'GALAXY': 2, 'STAR_WHITE_DWARF': 3, 'STAR_RED_DWARF': 4, 'QSO': 5, 'SERENDIPITY_BLUE': 6, 'SERENDIPITY_FIRST': 7, 'STAR_SUB_DWARF': 8, 'SKY': 9, 'SPECTROPHOTO_STD': 10, 'STAR_CARBON': 11, 'STAR_CATY_VAR': 12, 'SERENDIPITY_RED': 13, 'ROSAT_D': 14, 'SERENDIPITY_MANUAL': 15, 'STAR_BROWN_DWARF': 16, 'STAR_PN': 17, 'STAR_BHB': 18}\n"
          ],
          "name": "stdout"
        }
      ]
    },
    {
      "cell_type": "code",
      "metadata": {
        "id": "IuJ7DH54kxGZ",
        "colab_type": "code",
        "colab": {}
      },
      "source": [
        ""
      ],
      "execution_count": 0,
      "outputs": []
    },
    {
      "cell_type": "code",
      "metadata": {
        "id": "znSxq9pamiyE",
        "colab_type": "code",
        "colab": {
          "base_uri": "https://localhost:8080/",
          "height": 175
        },
        "outputId": "346cfce0-dcc8-4a45-d751-260889a958a4"
      },
      "source": [
        "modified_data = data.drop(['id'],axis=1)\n",
        "feature_columns = list(data.columns.difference(['type','type_num'])) # target을 제외한 모든 행\n",
        "X = data[feature_columns] # 설명변수\n",
        "y = data['type_num'] # 타겟변수\n",
        "train_x, test_x, train_y, test_y = train_test_split(X, y, test_size = 0.2) # 학습데이터와 평가데이터의 비율을 8:2 로 분할| \n",
        "print(train_x.shape, test_x.shape, train_y.shape, test_y.shape) # 데이터 개수 확인\n",
        "\n"
      ],
      "execution_count": 53,
      "outputs": [
        {
          "output_type": "stream",
          "text": [
            "   fiberID  fiberMag_g  fiberMag_i  ...   psfMag_r   psfMag_u   psfMag_z\n",
            "0      601   21.644453   21.387653  ...  21.314148  23.198224  21.171444\n",
            "1      788   21.029773   20.937731  ...  20.678850  21.431355  20.473229\n",
            "2      427   17.033098   17.095999  ...  16.679677  17.851451  16.641788\n",
            "3      864   20.317165   20.073852  ...  19.926909  20.789900  19.463270\n",
            "4      612   23.629122   19.861718  ...  21.471406  26.454969  18.389096\n",
            "\n",
            "[5 rows x 22 columns]\n",
            "(159992, 22) (39999, 22) (159992,) (39999,)\n"
          ],
          "name": "stdout"
        }
      ]
    },
    {
      "cell_type": "code",
      "metadata": {
        "id": "2xk-uFy-mrQ-",
        "colab_type": "code",
        "colab": {
          "base_uri": "https://localhost:8080/",
          "height": 87
        },
        "outputId": "88342253-2f5c-4d71-f7f7-fe3519ad4d17"
      },
      "source": [
        "import lightgbm as lgb\n",
        "from sklearn.metrics import accuracy_score\n",
        "start = time.time() # 시작 시간 지정\n",
        "lgb_dtrain = lgb.Dataset(data = train_x, label = train_y) # 학습 데이터를 LightGBM 모델에 맞게 변환\n",
        "lgb_param = {'max_depth': 15, # 트리 깊이\n",
        "            'learning_rate': 0.01, # Step Size\n",
        "            'n_estimators': 100, # Number of trees, 트리 생성 개수\n",
        "            'objective': 'multiclassova', # 목적 함수\n",
        "            'num_class': len(set(train_y)) + 1} # 파라미터 추가\n",
        "lgb_model = lgb.train(params = lgb_param, train_set = lgb_dtrain) # 학습 진행\n",
        "lgb_model_predict = np.argmax(lgb_model.predict(test_x), axis = 1) # 평가 데이터 예측, Softmax의 결과값 중 가장 큰 값의 Label로 예측\n",
        "print(\"Accuracy: %.2f\" % (accuracy_score(test_y, lgb_model_predict) * 100), \"%\") # 정확도 % 계산\n",
        "print(\"Time: %.2f\" % (time.time() - start), \"seconds\") # 코드 실행 시간 계산"
      ],
      "execution_count": 60,
      "outputs": [
        {
          "output_type": "stream",
          "text": [
            "/usr/local/lib/python3.6/dist-packages/lightgbm/engine.py:118: UserWarning: Found `n_estimators` in params. Will use it instead of argument\n",
            "  warnings.warn(\"Found `{}` in params. Will use it instead of argument\".format(alias))\n"
          ],
          "name": "stderr"
        },
        {
          "output_type": "stream",
          "text": [
            "Accuracy: 85.28 %\n",
            "Time: 43.70 seconds\n"
          ],
          "name": "stdout"
        }
      ]
    },
    {
      "cell_type": "code",
      "metadata": {
        "id": "gVBFJyl7nNUH",
        "colab_type": "code",
        "colab": {}
      },
      "source": [
        ""
      ],
      "execution_count": 0,
      "outputs": []
    }
  ]
}